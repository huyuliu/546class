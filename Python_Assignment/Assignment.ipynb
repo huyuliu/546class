{
 "cells": [
  {
   "cell_type": "markdown",
   "metadata": {},
   "source": [
    "# Python Assignment\n",
    "\n",
    "IMPORTANT: install BioPython so that this will work"
   ]
  },
  {
   "cell_type": "code",
   "execution_count": 1,
   "metadata": {},
   "outputs": [],
   "source": [
    "from Bio import SeqIO\n",
    "from Bio.Data import CodonTable\n",
    "import pandas as pd"
   ]
  },
  {
   "cell_type": "markdown",
   "metadata": {},
   "source": [
    "## First function\n",
    "\n",
    "### 1. Document Dr. X's Function\n"
   ]
  },
  {
   "cell_type": "code",
   "execution_count": 5,
   "metadata": {},
   "outputs": [],
   "source": [
    "def get_sequences_from_file(fasta_fn): #Define a function, which requires a fasta file as input. \n",
    "    sequence_data_dict = {} #Creates an empty dictionary object.\n",
    "    for record in SeqIO.parse(fasta_fn, \"fasta\"): #A loop goes through each record in the input by using \"SeqIO.parse\" function.\n",
    "        description = record.description.split() #Split head line into separate elements and storage as list.\n",
    "        species_name = description[1] + \" \" + description[2] #Make the taxonomic binomial nomenclature for the species whose DNA sequence belongs to.\n",
    "        sequence_data_dict[species_name] = record.seq #Save DNA sequence to the dictionary object with the species taxonimic name as index.\n",
    "    return(sequence_data_dict) #After finishing the loop, returen the created dictionary."
   ]
  },
  {
   "cell_type": "markdown",
   "metadata": {},
   "source": [
    "### 2. Translates Sequences"
   ]
  },
  {
   "cell_type": "code",
   "execution_count": 6,
   "metadata": {},
   "outputs": [],
   "source": [
    "def translate_function(string_nucleotides): #Define a function, which requires a DNA sequence as input argument.\n",
    "    mito_table = CodonTable.unambiguous_dna_by_name[\"Vertebrate Mitochondrial\"] #Creates an object contained the codon usage table.\n",
    "    aa_seq_string = \"\" #Creates an empty string type object.\n",
    "    i = 0 #Initial an numeric object as \"0\".\n",
    "    while i < len(string_nucleotides): #A loop goes through the sequence.\n",
    "        codon = string_nucleotides[i:i+3] #Creates an object that contains a 3bp slice.\n",
    "        if (codon == 'TAG' or codon == 'TAA' or codon == 'AGA' or codon == 'AGG'): #Check if the codon is a \"stop codon\".\n",
    "            break #End loop if find stop codon.\n",
    "        aa = mito_table.forward_table[codon] #Translate the codon into one-letter amino acid symbol.\n",
    "        aa_seq_string += aa #Save the one-letter amino acid symbol into amino acid seq.\n",
    "        i += 3 #Move to next codon.\n",
    "    return(aa_seq_string) #After finishing the loop, returen the amino acid seq."
   ]
  },
  {
   "cell_type": "markdown",
   "metadata": {},
   "source": [
    "### 3. Translation Function with Biopython"
   ]
  },
  {
   "cell_type": "code",
   "execution_count": 7,
   "metadata": {},
   "outputs": [],
   "source": [
    "#Import packages.\n",
    "from Bio.Seq import Seq\n",
    "from Bio.Alphabet import IUPAC\n",
    "\n",
    "def imp_translate_function(string_nucleotides): #Define a function, which requires a DNA sequence as input argument.\n",
    "    coding_dna = Seq(string_nucleotides, IUPAC.unambiguous_dna) #Creates a seq type object includes the DNA seq.\n",
    "    aa_seq_string = coding_dna.translate(table=\"Vertebrate Mitochondrial\", to_stop=True) #Creates a object includes the AA seq that is translated from the DNA seq and stoped at stop codon.\n",
    "    return(aa_seq_string) #Return the AA seq."
   ]
  },
  {
   "cell_type": "markdown",
   "metadata": {},
   "source": [
    "### 4. AA Analysis"
   ]
  },
  {
   "cell_type": "code",
   "execution_count": 8,
   "metadata": {},
   "outputs": [],
   "source": [
    "from Bio.SeqUtils.ProtParam import ProteinAnalysis #Import packages.\n",
    "def compute_molecular_weight(aa_seq): #Define a function, which requires an AA sequence as input argument.\n",
    "    analysed_seq = ProteinAnalysis(aa_seq) #Create an object contains AA seq with a specific object type.\n",
    "    seq_aa_weight = analysed_seq.molecular_weight() #Create an object with the molecular weight calculated from AA seq.\n",
    "    return(seq_aa_weight) #Return the molecular weight."
   ]
  },
  {
   "cell_type": "markdown",
   "metadata": {},
   "source": [
    "### 5. GC Content Analysis"
   ]
  },
  {
   "cell_type": "code",
   "execution_count": 9,
   "metadata": {},
   "outputs": [],
   "source": [
    "def get_GC_content(string_nucleotides): #Define a function, which requires a DNA sequence as input argument.\n",
    "    count = 0 #Initial an numeric object as \"0\".\n",
    "    for base in string_nucleotides: #A loop goes through the sequence.\n",
    "        if (base == 'G' or base == 'C'): #Check if the base is G or C.\n",
    "            count += 1 #Count G and C.\n",
    "    return(count / len(string_nucleotides)*100) #Return the G/C percentage."
   ]
  },
  {
   "cell_type": "markdown",
   "metadata": {},
   "source": [
    "## Main\n",
    "### Import Data"
   ]
  },
  {
   "cell_type": "code",
   "execution_count": 13,
   "metadata": {},
   "outputs": [],
   "source": [
    "cytb_seqs = get_sequences_from_file(\"original/penguins_cytb.fasta\") \n",
    "\n",
    "penguins_df = pd.read_csv(\"original/penguins_mass.csv\") # Includes only data for body mass \n",
    "species_list = list(penguins_df.species)"
   ]
  },
  {
   "cell_type": "markdown",
   "metadata": {},
   "source": [
    "### 6. Add New Column for Molecular Weight and GC Content"
   ]
  },
  {
   "cell_type": "code",
   "execution_count": 14,
   "metadata": {},
   "outputs": [],
   "source": [
    "penguins_df['molecular_weight'] = 'NaN' #Use NaN for empty data.\n",
    "penguins_df['GC_content'] = 'NaN'"
   ]
  },
  {
   "cell_type": "markdown",
   "metadata": {},
   "source": [
    "### 7. Fill in Molecular Weight and GC Content"
   ]
  },
  {
   "cell_type": "code",
   "execution_count": 15,
   "metadata": {},
   "outputs": [],
   "source": [
    "for key, value in cytb_seqs.items(): #A loop goes through each DNA seq in dictionary.\n",
    "    aa_seq = translate_function(str(value)) #Convert DNA seq into AA seq.\n",
    "    mol_wght = compute_molecular_weight(str(aa_seq)) #Calculate molecular weight.\n",
    "    GC_con = get_GC_content(value) #Calculate GC content.\n",
    "    penguins_df.loc[penguins_df['species'].str.contains(key), 'molecular_weight'] = mol_wght #Search for the right cell and fill the molecular weight.\n",
    "    penguins_df.loc[penguins_df['species'].str.contains(key), 'GC_content'] = GC_con #Search for the right cell and fill the GC content."
   ]
  },
  {
   "cell_type": "code",
   "execution_count": 21,
   "metadata": {},
   "outputs": [
    {
     "data": {
      "text/html": [
       "<div>\n",
       "<style scoped>\n",
       "    .dataframe tbody tr th:only-of-type {\n",
       "        vertical-align: middle;\n",
       "    }\n",
       "\n",
       "    .dataframe tbody tr th {\n",
       "        vertical-align: top;\n",
       "    }\n",
       "\n",
       "    .dataframe thead th {\n",
       "        text-align: right;\n",
       "    }\n",
       "</style>\n",
       "<table border=\"1\" class=\"dataframe\">\n",
       "  <thead>\n",
       "    <tr style=\"text-align: right;\">\n",
       "      <th></th>\n",
       "      <th>species</th>\n",
       "      <th>mass</th>\n",
       "      <th>molecular_weight</th>\n",
       "      <th>GC_content</th>\n",
       "    </tr>\n",
       "  </thead>\n",
       "  <tbody>\n",
       "    <tr>\n",
       "      <th>0</th>\n",
       "      <td>Aptenodytes forsteri</td>\n",
       "      <td>28.00</td>\n",
       "      <td>42459.6</td>\n",
       "      <td>48.3815</td>\n",
       "    </tr>\n",
       "    <tr>\n",
       "      <th>1</th>\n",
       "      <td>Aptenodytes patagonicus</td>\n",
       "      <td>13.40</td>\n",
       "      <td>42563.7</td>\n",
       "      <td>49.6938</td>\n",
       "    </tr>\n",
       "    <tr>\n",
       "      <th>2</th>\n",
       "      <td>Eudyptes chrysocome</td>\n",
       "      <td>2.80</td>\n",
       "      <td>42475.6</td>\n",
       "      <td>51.1811</td>\n",
       "    </tr>\n",
       "    <tr>\n",
       "      <th>3</th>\n",
       "      <td>Eudyptes chrysolophus</td>\n",
       "      <td>4.50</td>\n",
       "      <td>42445.5</td>\n",
       "      <td>50.9186</td>\n",
       "    </tr>\n",
       "    <tr>\n",
       "      <th>4</th>\n",
       "      <td>Eudyptes sclateri</td>\n",
       "      <td>4.25</td>\n",
       "      <td>42475.6</td>\n",
       "      <td>50.8311</td>\n",
       "    </tr>\n",
       "    <tr>\n",
       "      <th>5</th>\n",
       "      <td>Eudyptula minor</td>\n",
       "      <td>1.60</td>\n",
       "      <td>42491.6</td>\n",
       "      <td>49.2563</td>\n",
       "    </tr>\n",
       "    <tr>\n",
       "      <th>6</th>\n",
       "      <td>Pygoscelis adeliae</td>\n",
       "      <td>4.60</td>\n",
       "      <td>42458.6</td>\n",
       "      <td>49.0814</td>\n",
       "    </tr>\n",
       "    <tr>\n",
       "      <th>7</th>\n",
       "      <td>Pygoscelis antarctica</td>\n",
       "      <td>4.10</td>\n",
       "      <td>42404.5</td>\n",
       "      <td>47.769</td>\n",
       "    </tr>\n",
       "    <tr>\n",
       "      <th>8</th>\n",
       "      <td>Pygoscelis papua</td>\n",
       "      <td>6.10</td>\n",
       "      <td>42595.9</td>\n",
       "      <td>47.1566</td>\n",
       "    </tr>\n",
       "    <tr>\n",
       "      <th>9</th>\n",
       "      <td>Spheniscus demersus</td>\n",
       "      <td>3.20</td>\n",
       "      <td>42431.5</td>\n",
       "      <td>48.294</td>\n",
       "    </tr>\n",
       "    <tr>\n",
       "      <th>10</th>\n",
       "      <td>Spheniscus humboldti</td>\n",
       "      <td>4.75</td>\n",
       "      <td>42399.6</td>\n",
       "      <td>49.2563</td>\n",
       "    </tr>\n",
       "    <tr>\n",
       "      <th>11</th>\n",
       "      <td>Spheniscus magellanicus</td>\n",
       "      <td>3.40</td>\n",
       "      <td>42459.6</td>\n",
       "      <td>48.2065</td>\n",
       "    </tr>\n",
       "  </tbody>\n",
       "</table>\n",
       "</div>"
      ],
      "text/plain": [
       "                    species   mass molecular_weight GC_content\n",
       "0      Aptenodytes forsteri  28.00          42459.6    48.3815\n",
       "1   Aptenodytes patagonicus  13.40          42563.7    49.6938\n",
       "2       Eudyptes chrysocome   2.80          42475.6    51.1811\n",
       "3     Eudyptes chrysolophus   4.50          42445.5    50.9186\n",
       "4         Eudyptes sclateri   4.25          42475.6    50.8311\n",
       "5           Eudyptula minor   1.60          42491.6    49.2563\n",
       "6        Pygoscelis adeliae   4.60          42458.6    49.0814\n",
       "7     Pygoscelis antarctica   4.10          42404.5     47.769\n",
       "8          Pygoscelis papua   6.10          42595.9    47.1566\n",
       "9       Spheniscus demersus   3.20          42431.5     48.294\n",
       "10     Spheniscus humboldti   4.75          42399.6    49.2563\n",
       "11  Spheniscus magellanicus   3.40          42459.6    48.2065"
      ]
     },
     "execution_count": 21,
     "metadata": {},
     "output_type": "execute_result"
    }
   ],
   "source": [
    "penguins_df"
   ]
  },
  {
   "cell_type": "markdown",
   "metadata": {},
   "source": [
    "### 8. Bar-chart of Adult Body Mass Per Species"
   ]
  },
  {
   "cell_type": "code",
   "execution_count": 19,
   "metadata": {},
   "outputs": [],
   "source": [
    "#Import packages, and allow figures inside notebook.\n",
    "import matplotlib.pyplot as plt\n",
    "import seaborn as sns\n",
    "%matplotlib inline"
   ]
  },
  {
   "cell_type": "code",
   "execution_count": 22,
   "metadata": {},
   "outputs": [
    {
     "data": {
      "text/plain": [
       "Text(0.5, 1.0, 'Average Body Mass Per Species')"
      ]
     },
     "execution_count": 22,
     "metadata": {},
     "output_type": "execute_result"
    },
    {
     "data": {
      "image/png": "[encoded data removed]",
      "text/plain": [
       "<Figure size 432x288 with 1 Axes>"
      ]
     },
     "metadata": {
      "needs_background": "light"
     },
     "output_type": "display_data"
    }
   ],
   "source": [
    "b = sns.barplot(\"species\",\"mass\", data=penguins_df) #Make the chart.\n",
    "b.set_xticklabels(g.get_xticklabels(), rotation=30, ha='right') #Set x axis lable.\n",
    "b.set_title('Average Body Mass Per Species') #Set title."
   ]
  },
  {
   "cell_type": "markdown",
   "metadata": {},
   "source": [
    "*Q1* What is the smallest penguin species? \n",
    "\n",
    "Eudyptula minor.\n",
    "\n",
    "*Q2* What else is interesting about this species?\n",
    "\n",
    "They are blue, and in Australia, they are often called fairy penguins because of their small size."
   ]
  },
  {
   "cell_type": "markdown",
   "metadata": {},
   "source": [
    "### 9. Visualization of Molecular Weight as a Function of GC-content"
   ]
  },
  {
   "cell_type": "code",
   "execution_count": 23,
   "metadata": {},
   "outputs": [
    {
     "data": {
      "image/png": "[encoded data removed]",
      "text/plain": [
       "<Figure size 360x360 with 1 Axes>"
      ]
     },
     "metadata": {
      "needs_background": "light"
     },
     "output_type": "display_data"
    }
   ],
   "source": [
    "p = sns.lmplot(\"GC_content\",\"molecular_weight\", data=penguins_df, fit_reg=False)"
   ]
  },
  {
   "cell_type": "markdown",
   "metadata": {},
   "source": [
    "### 10. Save New Data"
   ]
  },
  {
   "cell_type": "code",
   "execution_count": 24,
   "metadata": {},
   "outputs": [],
   "source": [
    "penguins_df.to_csv(\"penguins_mass_cytb.csv\", index = False)"
   ]
  }
 ],
 "metadata": {
  "kernelspec": {
   "display_name": "Python 3",
   "language": "python",
   "name": "python3"
  },
  "language_info": {
   "codemirror_mode": {
    "name": "ipython",
    "version": 3
   },
   "file_extension": ".py",
   "mimetype": "text/x-python",
   "name": "python",
   "nbconvert_exporter": "python",
   "pygments_lexer": "ipython3",
   "version": "3.7.5"
  }
 },
 "nbformat": 4,
 "nbformat_minor": 2
}
